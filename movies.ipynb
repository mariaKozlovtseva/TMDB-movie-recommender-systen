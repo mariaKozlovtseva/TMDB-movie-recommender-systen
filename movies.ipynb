{
  "nbformat": 4,
  "nbformat_minor": 0,
  "metadata": {
    "colab": {
      "name": "movies.ipynb",
      "provenance": [],
      "collapsed_sections": []
    },
    "kernelspec": {
      "name": "python3",
      "display_name": "Python 3"
    }
  },
  "cells": [
    {
      "cell_type": "markdown",
      "metadata": {
        "id": "IZFjHy766qvB",
        "colab_type": "text"
      },
      "source": [
        "This notebook consists of 3 parts:\n",
        "\n",
        "Cleaning and preprocessing our data\n",
        "\n",
        "Content-based filtering (here we use 'overview' of every movie, credits.csv data set)\n",
        "\n",
        "Colaborative filtering (here we use additional data set ratings.csv)\n",
        "\n",
        "As a result, I've achieved a model, which ouputs movies for a User, which he/she hasn't rated (this model will be in the next tutorial)."
      ]
    },
    {
      "cell_type": "code",
      "metadata": {
        "id": "O13zY1DQfQq8",
        "colab_type": "code",
        "colab": {}
      },
      "source": [
        "import numpy as np\n",
        "import pandas as pd\n",
        "import matplotlib.pyplot as plt\n",
        "import seaborn as sns\n",
        "%matplotlib inline"
      ],
      "execution_count": null,
      "outputs": []
    },
    {
      "cell_type": "code",
      "metadata": {
        "id": "IoonnaL4fzmU",
        "colab_type": "code",
        "colab": {}
      },
      "source": [
        "df1 = pd.read_csv('/content/drive/My Drive/movies_metadata.csv') # in the beginning import these data sets\n",
        "df2 = pd.read_csv('/content/drive/My Drive/credits.csv')"
      ],
      "execution_count": 2,
      "outputs": []
    },
    {
      "cell_type": "code",
      "metadata": {
        "id": "7bLr_rhghclM",
        "colab_type": "code",
        "colab": {
          "base_uri": "https://localhost:8080/",
          "height": 35
        },
        "outputId": "21c2289e-32ae-4d83-d72a-a1f24cfbce2b"
      },
      "source": [
        "df1.shape, sum(df1.id.str.isdigit()) # need to convert 'id' column to integer"
      ],
      "execution_count": 3,
      "outputs": [
        {
          "output_type": "execute_result",
          "data": {
            "text/plain": [
              "((45466, 24), 45463)"
            ]
          },
          "metadata": {
            "tags": []
          },
          "execution_count": 3
        }
      ]
    },
    {
      "cell_type": "code",
      "metadata": {
        "id": "kpVpn7T9i0DY",
        "colab_type": "code",
        "colab": {}
      },
      "source": [
        "df1 = df1[df1.id.str.isdigit()] # keep only digits"
      ],
      "execution_count": 5,
      "outputs": []
    },
    {
      "cell_type": "code",
      "metadata": {
        "id": "IeeMEWZThdUy",
        "colab_type": "code",
        "colab": {}
      },
      "source": [
        "df1 = df1.astype({'id':'int64'})"
      ],
      "execution_count": 6,
      "outputs": []
    },
    {
      "cell_type": "code",
      "metadata": {
        "id": "fHYYEe8fiVUF",
        "colab_type": "code",
        "colab": {}
      },
      "source": [
        "df = df1.merge(df2, on='id') # merge two tables"
      ],
      "execution_count": 7,
      "outputs": []
    },
    {
      "cell_type": "code",
      "metadata": {
        "id": "2Wx278yiyuyc",
        "colab_type": "code",
        "colab": {
          "base_uri": "https://localhost:8080/",
          "height": 320
        },
        "outputId": "e24efa7e-b2b9-499f-d04f-446a0fd7a2a0"
      },
      "source": [
        "df = df.astype({'popularity':'float64'}) # let's look at the most popular movies\n",
        "popular_movies = df.sort_values(by='popularity', ascending=False)\n",
        "plt.figure(figsize=(10,5))\n",
        "plt.barh(popular_movies.title.head(10),popular_movies.popularity.head(10), color='skyblue')\n",
        "plt.yticks(size=13)\n",
        "plt.gca().invert_yaxis()"
      ],
      "execution_count": 32,
      "outputs": [
        {
          "output_type": "display_data",
          "data": {
            "image/png": "[encoded data removed]",
            "text/plain": [
              "<Figure size 720x360 with 1 Axes>"
            ]
          },
          "metadata": {
            "tags": [],
            "needs_background": "light"
          }
        }
      ]
    },
    {
      "cell_type": "code",
      "metadata": {
        "id": "ykgvjIDCjCbt",
        "colab_type": "code",
        "colab": {
          "base_uri": "https://localhost:8080/",
          "height": 35
        },
        "outputId": "4d8e775d-0e5b-4715-8f63-9499ac01af94"
      },
      "source": [
        "C = df.vote_average.mean() \n",
        "# this trick I took from Kaggle: we need to calculate \n",
        "# weighted rating based in 'vote_count' and 'vote_average'\n",
        "C"
      ],
      "execution_count": 172,
      "outputs": [
        {
          "output_type": "execute_result",
          "data": {
            "text/plain": [
              "5.61823212913114"
            ]
          },
          "metadata": {
            "tags": []
          },
          "execution_count": 172
        }
      ]
    },
    {
      "cell_type": "code",
      "metadata": {
        "id": "WqqybLZ0m0ua",
        "colab_type": "code",
        "colab": {}
      },
      "source": [
        "df.dropna(subset=['vote_count'], inplace=True)"
      ],
      "execution_count": 10,
      "outputs": []
    },
    {
      "cell_type": "code",
      "metadata": {
        "id": "PLbZa2dkIle6",
        "colab_type": "code",
        "colab": {
          "base_uri": "https://localhost:8080/",
          "height": 35
        },
        "outputId": "a4571a16-52e4-47af-b6bb-288e9fd0e792"
      },
      "source": [
        "# we should bare in mind duplicated movie's id in order not to make a mistake\n",
        "df.drop_duplicates('id',ignore_index=True, inplace=True)\n",
        "sum(df.duplicated('id')), df.shape"
      ],
      "execution_count": 272,
      "outputs": [
        {
          "output_type": "execute_result",
          "data": {
            "text/plain": [
              "(0, (45429, 30))"
            ]
          },
          "metadata": {
            "tags": []
          },
          "execution_count": 272
        }
      ]
    },
    {
      "cell_type": "code",
      "metadata": {
        "id": "rvCrYRm7LsMi",
        "colab_type": "code",
        "colab": {
          "base_uri": "https://localhost:8080/",
          "height": 35
        },
        "outputId": "ca55d8b0-48b1-4407-b6a0-51eb73b18d94"
      },
      "source": [
        "df.index # check index"
      ],
      "execution_count": 273,
      "outputs": [
        {
          "output_type": "execute_result",
          "data": {
            "text/plain": [
              "RangeIndex(start=0, stop=45429, step=1)"
            ]
          },
          "metadata": {
            "tags": []
          },
          "execution_count": 273
        }
      ]
    },
    {
      "cell_type": "code",
      "metadata": {
        "id": "nLxSrSHcowlB",
        "colab_type": "code",
        "colab": {
          "base_uri": "https://localhost:8080/",
          "height": 35
        },
        "outputId": "3860a521-02e1-45ef-b95a-51fcc248a18a"
      },
      "source": [
        "m = df.vote_count.quantile(0.9) \n",
        "# we'll keep inly those ratings, where at least there are 160 votes\n",
        "m"
      ],
      "execution_count": 274,
      "outputs": [
        {
          "output_type": "execute_result",
          "data": {
            "text/plain": [
              "160.0"
            ]
          },
          "metadata": {
            "tags": []
          },
          "execution_count": 274
        }
      ]
    },
    {
      "cell_type": "code",
      "metadata": {
        "id": "9TUWy20rqLW1",
        "colab_type": "code",
        "colab": {}
      },
      "source": [
        "qualified_df = df[df.vote_count >= m]"
      ],
      "execution_count": 275,
      "outputs": []
    },
    {
      "cell_type": "code",
      "metadata": {
        "id": "vz6P4KfJq46m",
        "colab_type": "code",
        "colab": {
          "base_uri": "https://localhost:8080/",
          "height": 35
        },
        "outputId": "3a55fa1f-eb90-4bc7-daab-e3b52ff0ffb6"
      },
      "source": [
        "df.shape, qualified_df.shape # now we have 10 times less data"
      ],
      "execution_count": 276,
      "outputs": [
        {
          "output_type": "execute_result",
          "data": {
            "text/plain": [
              "((45429, 30), (4551, 30))"
            ]
          },
          "metadata": {
            "tags": []
          },
          "execution_count": 276
        }
      ]
    },
    {
      "cell_type": "code",
      "metadata": {
        "id": "YjTR_gCK1M5g",
        "colab_type": "code",
        "colab": {
          "base_uri": "https://localhost:8080/",
          "height": 35
        },
        "outputId": "4760ee9a-aa9c-4125-95c5-d01b27c4177d"
      },
      "source": [
        "qualified_df.index = range(0,4551) # as indices were not in the appropriate order\n",
        "qualified_df.index"
      ],
      "execution_count": 278,
      "outputs": [
        {
          "output_type": "execute_result",
          "data": {
            "text/plain": [
              "RangeIndex(start=0, stop=4551, step=1)"
            ]
          },
          "metadata": {
            "tags": []
          },
          "execution_count": 278
        }
      ]
    },
    {
      "cell_type": "code",
      "metadata": {
        "id": "sDJEAxqkVrSJ",
        "colab_type": "code",
        "colab": {}
      },
      "source": [
        "qualified_df.head()"
      ],
      "execution_count": null,
      "outputs": []
    },
    {
      "cell_type": "code",
      "metadata": {
        "id": "wM463byUvDE7",
        "colab_type": "code",
        "colab": {}
      },
      "source": [
        "def weighted_rating(x, m=m, C=C):\n",
        "    R = x['vote_average']\n",
        "    v = x['vote_count']\n",
        "    # based on the IMDB formula\n",
        "    return (v/(v+m) * R) + (m/(m+v) * C)"
      ],
      "execution_count": 280,
      "outputs": []
    },
    {
      "cell_type": "code",
      "metadata": {
        "id": "zN3QKIWDw_qj",
        "colab_type": "code",
        "colab": {}
      },
      "source": [
        "qualified_df['weighted_rating'] = qualified_df.apply(weighted_rating, axis=1)"
      ],
      "execution_count": null,
      "outputs": []
    },
    {
      "cell_type": "code",
      "metadata": {
        "id": "z2Y2NIFlxX1i",
        "colab_type": "code",
        "colab": {
          "base_uri": "https://localhost:8080/",
          "height": 202
        },
        "outputId": "8e91a089-539b-438c-a1d0-1097aaa4b010"
      },
      "source": [
        "qualified_df.loc[:,['title','vote_average', 'weighted_rating']].head()"
      ],
      "execution_count": 282,
      "outputs": [
        {
          "output_type": "execute_result",
          "data": {
            "text/html": [
              "<div>\n",
              "<style scoped>\n",
              "    .dataframe tbody tr th:only-of-type {\n",
              "        vertical-align: middle;\n",
              "    }\n",
              "\n",
              "    .dataframe tbody tr th {\n",
              "        vertical-align: top;\n",
              "    }\n",
              "\n",
              "    .dataframe thead th {\n",
              "        text-align: right;\n",
              "    }\n",
              "</style>\n",
              "<table border=\"1\" class=\"dataframe\">\n",
              "  <thead>\n",
              "    <tr style=\"text-align: right;\">\n",
              "      <th></th>\n",
              "      <th>title</th>\n",
              "      <th>vote_average</th>\n",
              "      <th>weighted_rating</th>\n",
              "    </tr>\n",
              "  </thead>\n",
              "  <tbody>\n",
              "    <tr>\n",
              "      <th>0</th>\n",
              "      <td>Toy Story</td>\n",
              "      <td>7.7</td>\n",
              "      <td>7.640254</td>\n",
              "    </tr>\n",
              "    <tr>\n",
              "      <th>1</th>\n",
              "      <td>Jumanji</td>\n",
              "      <td>6.9</td>\n",
              "      <td>6.820294</td>\n",
              "    </tr>\n",
              "    <tr>\n",
              "      <th>2</th>\n",
              "      <td>Father of the Bride Part II</td>\n",
              "      <td>5.7</td>\n",
              "      <td>5.660712</td>\n",
              "    </tr>\n",
              "    <tr>\n",
              "      <th>3</th>\n",
              "      <td>Heat</td>\n",
              "      <td>7.7</td>\n",
              "      <td>7.537203</td>\n",
              "    </tr>\n",
              "    <tr>\n",
              "      <th>4</th>\n",
              "      <td>Sudden Death</td>\n",
              "      <td>5.5</td>\n",
              "      <td>5.556638</td>\n",
              "    </tr>\n",
              "  </tbody>\n",
              "</table>\n",
              "</div>"
            ],
            "text/plain": [
              "                         title  vote_average  weighted_rating\n",
              "0                    Toy Story           7.7         7.640254\n",
              "1                      Jumanji           6.9         6.820294\n",
              "2  Father of the Bride Part II           5.7         5.660712\n",
              "3                         Heat           7.7         7.537203\n",
              "4                 Sudden Death           5.5         5.556638"
            ]
          },
          "metadata": {
            "tags": []
          },
          "execution_count": 282
        }
      ]
    },
    {
      "cell_type": "markdown",
      "metadata": {
        "id": "vv0TLdqbjyPV",
        "colab_type": "text"
      },
      "source": [
        "**Content-based filtering**"
      ]
    },
    {
      "cell_type": "code",
      "metadata": {
        "id": "VnOPCWfDzkk8",
        "colab_type": "code",
        "colab": {
          "base_uri": "https://localhost:8080/",
          "height": 139
        },
        "outputId": "2b6f5401-02dc-467a-eb44-7a2ed3f01f31"
      },
      "source": [
        "from sklearn.feature_extraction.text import TfidfVectorizer\n",
        "tfidf = TfidfVectorizer(stop_words='english')\n",
        "qualified_df.overview = qualified_df['overview'].fillna('') \n",
        "# we'll use 'overview' column as a content\n",
        "tfidf_matrix = tfidf.fit_transform(qualified_df['overview'])\n",
        "tfidf_matrix.shape"
      ],
      "execution_count": 283,
      "outputs": [
        {
          "output_type": "stream",
          "text": [
            "/usr/local/lib/python3.6/dist-packages/pandas/core/generic.py:5303: SettingWithCopyWarning: \n",
            "A value is trying to be set on a copy of a slice from a DataFrame.\n",
            "Try using .loc[row_indexer,col_indexer] = value instead\n",
            "\n",
            "See the caveats in the documentation: https://pandas.pydata.org/pandas-docs/stable/user_guide/indexing.html#returning-a-view-versus-a-copy\n",
            "  self[name] = value\n"
          ],
          "name": "stderr"
        },
        {
          "output_type": "execute_result",
          "data": {
            "text/plain": [
              "(4551, 19694)"
            ]
          },
          "metadata": {
            "tags": []
          },
          "execution_count": 283
        }
      ]
    },
    {
      "cell_type": "code",
      "metadata": {
        "id": "pT6LBcHR1oC4",
        "colab_type": "code",
        "colab": {}
      },
      "source": [
        "from sklearn.metrics.pairwise import linear_kernel \n",
        "# we'll calculate the distance using cosine similarity, as the documenattion says: \n",
        "# if you use TFIDF vectorizer, which returns normalized rows, \n",
        "# you should make only a dot product of matrices rather than the whole calculation of cosine similarity\n",
        "cosine_sim = linear_kernel(tfidf_matrix, tfidf_matrix)"
      ],
      "execution_count": 284,
      "outputs": []
    },
    {
      "cell_type": "code",
      "metadata": {
        "id": "27wX4rga4YCN",
        "colab_type": "code",
        "colab": {}
      },
      "source": [
        "# we'll make a function whose input is 'title' of the movie and ouput  is most similar to this movie movies\n",
        "indices = pd.Series(qualified_df.index, index=qualified_df.title) "
      ],
      "execution_count": 285,
      "outputs": []
    },
    {
      "cell_type": "code",
      "metadata": {
        "id": "_ozNI3b65Tmr",
        "colab_type": "code",
        "colab": {
          "base_uri": "https://localhost:8080/",
          "height": 139
        },
        "outputId": "b028b7d4-e934-40d5-89eb-7bd503075fc6"
      },
      "source": [
        "indices.head()"
      ],
      "execution_count": 286,
      "outputs": [
        {
          "output_type": "execute_result",
          "data": {
            "text/plain": [
              "title\n",
              "Toy Story                      0\n",
              "Jumanji                        1\n",
              "Father of the Bride Part II    2\n",
              "Heat                           3\n",
              "Sudden Death                   4\n",
              "dtype: int64"
            ]
          },
          "metadata": {
            "tags": []
          },
          "execution_count": 286
        }
      ]
    },
    {
      "cell_type": "code",
      "metadata": {
        "id": "TEDHAy2U4rr4",
        "colab_type": "code",
        "colab": {}
      },
      "source": [
        "def common_10_movies(title):\n",
        "  idx = indices[title]\n",
        "  similarities = list(enumerate(cosine_sim[idx]))\n",
        "  similarities = sorted(similarities, key= lambda x: x[1], reverse=True)\n",
        "  similarities = similarities[1:11] # as the 1st similarity is with itself\n",
        "  sim_indices = [x[0] for x in similarities]\n",
        "  return qualified_df.title.iloc[sim_indices], [x[1] for x in similarities]"
      ],
      "execution_count": 38,
      "outputs": []
    },
    {
      "cell_type": "code",
      "metadata": {
        "id": "Mu7s4vmd6vEB",
        "colab_type": "code",
        "colab": {}
      },
      "source": [
        "movies, scores = common_10_movies('The Dark Knight')"
      ],
      "execution_count": 287,
      "outputs": []
    },
    {
      "cell_type": "code",
      "metadata": {
        "id": "r592qo1pAFB6",
        "colab_type": "code",
        "colab": {
          "base_uri": "https://localhost:8080/",
          "height": 265
        },
        "outputId": "a3bf5b2f-74ce-43a6-c77a-e6dd40d6e561"
      },
      "source": [
        "plt.barh(movies, scores, color='skyblue') \n",
        "plt.gca().invert_yaxis()\n",
        "# so this simple model returns only movies about Batman, \n",
        "# let's make it more complex: i.g. include director of the movie, top actors and etc."
      ],
      "execution_count": 288,
      "outputs": [
        {
          "output_type": "display_data",
          "data": {
            "image/png": "[encoded data removed]",
            "text/plain": [
              "<Figure size 432x288 with 1 Axes>"
            ]
          },
          "metadata": {
            "tags": [],
            "needs_background": "light"
          }
        }
      ]
    },
    {
      "cell_type": "markdown",
      "metadata": {
        "id": "078a9lN11KJy",
        "colab_type": "text"
      },
      "source": [
        "**Using mixed information about movie as its content**"
      ]
    },
    {
      "cell_type": "code",
      "metadata": {
        "id": "b42dtWguBzc6",
        "colab_type": "code",
        "colab": {}
      },
      "source": [
        "from ast import literal_eval # as these columns are strings of list of dicts\n",
        "features = ['cast', 'crew',  'genres']\n",
        "for feature in features:\n",
        "    df[feature] = df[feature].apply(literal_eval) # attention: we switched to our first dataframe"
      ],
      "execution_count": null,
      "outputs": []
    },
    {
      "cell_type": "code",
      "metadata": {
        "id": "1tEVFV6TCE0v",
        "colab_type": "code",
        "colab": {}
      },
      "source": [
        "def get_director(x): \n",
        "    \"\"\" \n",
        "    This function we'll give a Series of directors of the movie\n",
        "    \"\"\"\n",
        "    for i in x:\n",
        "        if i['job'] == 'Director':\n",
        "            return i['name']\n",
        "    return None\n",
        "def get_list(x):\n",
        "    \"\"\" \n",
        "    This function we'll give a Series of top-3 of the particular properties of the movie\n",
        "    \"\"\"\n",
        "    if isinstance(x, list):\n",
        "      names = [i['name'] for i in x]\n",
        "      if len(names) > 3:\n",
        "        names = names[:3]\n",
        "      return names\n",
        "    return None"
      ],
      "execution_count": 50,
      "outputs": []
    },
    {
      "cell_type": "code",
      "metadata": {
        "id": "7bg32jE2Pjtd",
        "colab_type": "code",
        "colab": {}
      },
      "source": [
        "df['directors'] = df.crew.apply(get_director)\n",
        "features = ['cast', 'genres']\n",
        "for feature in features:\n",
        "    df[feature] = df[feature].apply(get_list)"
      ],
      "execution_count": 51,
      "outputs": []
    },
    {
      "cell_type": "code",
      "metadata": {
        "id": "h29whzLCRztj",
        "colab_type": "code",
        "colab": {}
      },
      "source": [
        "def lower_strip(x): # make our text data more appropriate for the recommendation model\n",
        "  if isinstance(x,list):\n",
        "    # if we leave our actors' names with space, \n",
        "    # then recommender will consist 'Tom Haks' and 'Tom Hardy' as the same, \n",
        "    # so we should merge actors' 1st and last names\n",
        "    return [str.lower(i.replace(\" \", \"\")) for i in x] \n",
        "  elif isinstance(x,str): # for directors\n",
        "    return str.lower(x.replace(\" \", \"\"))\n",
        "  else:\n",
        "    return None"
      ],
      "execution_count": 56,
      "outputs": []
    },
    {
      "cell_type": "code",
      "metadata": {
        "id": "4Z86Lt_ESC04",
        "colab_type": "code",
        "colab": {}
      },
      "source": [
        "features = ['cast', 'genres', 'directors']\n",
        "for feature in features:\n",
        "    df[feature] = df[feature].apply(lower_strip)"
      ],
      "execution_count": 57,
      "outputs": []
    },
    {
      "cell_type": "code",
      "metadata": {
        "id": "f6036d0FQnGM",
        "colab_type": "code",
        "colab": {
          "base_uri": "https://localhost:8080/",
          "height": 202
        },
        "outputId": "121b46bc-8fe2-4f1b-e927-6fdb6bb39224"
      },
      "source": [
        "df.loc[:, ['title', 'cast', 'genres','directors']].head(5)"
      ],
      "execution_count": 290,
      "outputs": [
        {
          "output_type": "execute_result",
          "data": {
            "text/html": [
              "<div>\n",
              "<style scoped>\n",
              "    .dataframe tbody tr th:only-of-type {\n",
              "        vertical-align: middle;\n",
              "    }\n",
              "\n",
              "    .dataframe tbody tr th {\n",
              "        vertical-align: top;\n",
              "    }\n",
              "\n",
              "    .dataframe thead th {\n",
              "        text-align: right;\n",
              "    }\n",
              "</style>\n",
              "<table border=\"1\" class=\"dataframe\">\n",
              "  <thead>\n",
              "    <tr style=\"text-align: right;\">\n",
              "      <th></th>\n",
              "      <th>title</th>\n",
              "      <th>cast</th>\n",
              "      <th>genres</th>\n",
              "      <th>directors</th>\n",
              "    </tr>\n",
              "  </thead>\n",
              "  <tbody>\n",
              "    <tr>\n",
              "      <th>0</th>\n",
              "      <td>Toy Story</td>\n",
              "      <td>[tomhanks, timallen, donrickles]</td>\n",
              "      <td>[animation, comedy, family]</td>\n",
              "      <td>johnlasseter</td>\n",
              "    </tr>\n",
              "    <tr>\n",
              "      <th>1</th>\n",
              "      <td>Jumanji</td>\n",
              "      <td>[robinwilliams, jonathanhyde, kirstendunst]</td>\n",
              "      <td>[adventure, fantasy, family]</td>\n",
              "      <td>joejohnston</td>\n",
              "    </tr>\n",
              "    <tr>\n",
              "      <th>2</th>\n",
              "      <td>Grumpier Old Men</td>\n",
              "      <td>[waltermatthau, jacklemmon, ann-margret]</td>\n",
              "      <td>[romance, comedy]</td>\n",
              "      <td>howarddeutch</td>\n",
              "    </tr>\n",
              "    <tr>\n",
              "      <th>3</th>\n",
              "      <td>Waiting to Exhale</td>\n",
              "      <td>[whitneyhouston, angelabassett, lorettadevine]</td>\n",
              "      <td>[comedy, drama, romance]</td>\n",
              "      <td>forestwhitaker</td>\n",
              "    </tr>\n",
              "    <tr>\n",
              "      <th>4</th>\n",
              "      <td>Father of the Bride Part II</td>\n",
              "      <td>[stevemartin, dianekeaton, martinshort]</td>\n",
              "      <td>[comedy]</td>\n",
              "      <td>charlesshyer</td>\n",
              "    </tr>\n",
              "  </tbody>\n",
              "</table>\n",
              "</div>"
            ],
            "text/plain": [
              "                         title  ...       directors\n",
              "0                    Toy Story  ...    johnlasseter\n",
              "1                      Jumanji  ...     joejohnston\n",
              "2             Grumpier Old Men  ...    howarddeutch\n",
              "3            Waiting to Exhale  ...  forestwhitaker\n",
              "4  Father of the Bride Part II  ...    charlesshyer\n",
              "\n",
              "[5 rows x 4 columns]"
            ]
          },
          "metadata": {
            "tags": []
          },
          "execution_count": 290
        }
      ]
    },
    {
      "cell_type": "code",
      "metadata": {
        "id": "Fr7KdgY6Tvzi",
        "colab_type": "code",
        "colab": {}
      },
      "source": [
        "def concatenate(x): # concatenate three columns into one\n",
        "  try:\n",
        "    return ' '.join(x.cast)+' '+' '.join(x.genres)+' '+x.directors\n",
        "  except: # as we have empty data in 'directors'\n",
        "    return ' '.join(x.cast)+' '+' '.join(x.genres)"
      ],
      "execution_count": 59,
      "outputs": []
    },
    {
      "cell_type": "code",
      "metadata": {
        "id": "7ZChpHprUHK5",
        "colab_type": "code",
        "colab": {}
      },
      "source": [
        "df['mixed_info'] = df.apply(concatenate,axis=1)"
      ],
      "execution_count": 60,
      "outputs": []
    },
    {
      "cell_type": "code",
      "metadata": {
        "id": "TTMp0GfAW7x4",
        "colab_type": "code",
        "colab": {
          "base_uri": "https://localhost:8080/",
          "height": 121
        },
        "outputId": "ae5cf028-4c9e-4bcc-84c4-dea1bb7e331e"
      },
      "source": [
        "df.mixed_info.head()"
      ],
      "execution_count": 291,
      "outputs": [
        {
          "output_type": "execute_result",
          "data": {
            "text/plain": [
              "0    tomhanks timallen donrickles animation comedy ...\n",
              "1    robinwilliams jonathanhyde kirstendunst advent...\n",
              "2    waltermatthau jacklemmon ann-margret romance c...\n",
              "3    whitneyhouston angelabassett lorettadevine com...\n",
              "4    stevemartin dianekeaton martinshort comedy cha...\n",
              "Name: mixed_info, dtype: object"
            ]
          },
          "metadata": {
            "tags": []
          },
          "execution_count": 291
        }
      ]
    },
    {
      "cell_type": "code",
      "metadata": {
        "id": "dIbLybzTojJf",
        "colab_type": "code",
        "colab": {
          "base_uri": "https://localhost:8080/",
          "height": 87
        },
        "outputId": "81ea6992-f67f-47d2-e1a6-fe8a8060f072"
      },
      "source": [
        "links = pd.read_csv('/content/drive/My Drive/datasets_3405_6663_links_small.csv') # we'll be using another one data set\n",
        "links.isna().sum()"
      ],
      "execution_count": 293,
      "outputs": [
        {
          "output_type": "execute_result",
          "data": {
            "text/plain": [
              "movieId     0\n",
              "imdbId      0\n",
              "tmdbId     13\n",
              "dtype: int64"
            ]
          },
          "metadata": {
            "tags": []
          },
          "execution_count": 293
        }
      ]
    },
    {
      "cell_type": "code",
      "metadata": {
        "id": "en3ehC2kJLt0",
        "colab_type": "code",
        "colab": {
          "base_uri": "https://localhost:8080/",
          "height": 35
        },
        "outputId": "89de8ee7-7c51-4f0b-acfd-91eba4fcb1aa"
      },
      "source": [
        "links.duplicated('tmdbId').sum()"
      ],
      "execution_count": 295,
      "outputs": [
        {
          "output_type": "execute_result",
          "data": {
            "text/plain": [
              "12"
            ]
          },
          "metadata": {
            "tags": []
          },
          "execution_count": 295
        }
      ]
    },
    {
      "cell_type": "code",
      "metadata": {
        "id": "UQ3_oLlpJVnN",
        "colab_type": "code",
        "colab": {
          "base_uri": "https://localhost:8080/",
          "height": 35
        },
        "outputId": "91c90f93-bfdc-43de-ac6f-21666ce9986e"
      },
      "source": [
        "links.drop_duplicates('tmdbId',inplace=True, ignore_index=True)\n",
        "links.duplicated('tmdbId').sum()"
      ],
      "execution_count": 296,
      "outputs": [
        {
          "output_type": "execute_result",
          "data": {
            "text/plain": [
              "0"
            ]
          },
          "metadata": {
            "tags": []
          },
          "execution_count": 296
        }
      ]
    },
    {
      "cell_type": "code",
      "metadata": {
        "id": "OuI3OC9kMhRr",
        "colab_type": "code",
        "colab": {}
      },
      "source": [
        "links.dropna(subset=['tmdbId'], inplace=True)"
      ],
      "execution_count": 297,
      "outputs": []
    },
    {
      "cell_type": "code",
      "metadata": {
        "id": "A0RbfBOzpUeB",
        "colab_type": "code",
        "colab": {
          "base_uri": "https://localhost:8080/",
          "height": 35
        },
        "outputId": "a67594ac-bca4-498b-d2ab-0b01b4f142ea"
      },
      "source": [
        "def convert_int(x):\n",
        "    try:\n",
        "        return int(x)\n",
        "    except:\n",
        "        return np.nan\n",
        "links.tmdbId = links.tmdbId.apply(convert_int)\n",
        "links.shape, (df[df.id.isin(links.tmdbId)]).shape"
      ],
      "execution_count": 298,
      "outputs": [
        {
          "output_type": "execute_result",
          "data": {
            "text/plain": [
              "((9112, 3), (9082, 30))"
            ]
          },
          "metadata": {
            "tags": []
          },
          "execution_count": 298
        }
      ]
    },
    {
      "cell_type": "code",
      "metadata": {
        "id": "AI9tAZlzpszz",
        "colab_type": "code",
        "colab": {}
      },
      "source": [
        "df_links = df[df.id.isin(links.tmdbId)] # consider only those 'id' which are in 'tmdbId'"
      ],
      "execution_count": 492,
      "outputs": []
    },
    {
      "cell_type": "code",
      "metadata": {
        "id": "GOWgeatONk6H",
        "colab_type": "code",
        "colab": {
          "base_uri": "https://localhost:8080/",
          "height": 35
        },
        "outputId": "2d5c91ef-0554-41bd-fd72-27454075c115"
      },
      "source": [
        "df_links.duplicated('id').sum() # check"
      ],
      "execution_count": 493,
      "outputs": [
        {
          "output_type": "execute_result",
          "data": {
            "text/plain": [
              "0"
            ]
          },
          "metadata": {
            "tags": []
          },
          "execution_count": 493
        }
      ]
    },
    {
      "cell_type": "code",
      "metadata": {
        "id": "qD0kw5dEqPcQ",
        "colab_type": "code",
        "colab": {
          "base_uri": "https://localhost:8080/",
          "height": 121
        },
        "outputId": "4c5c9ebb-6338-4881-b25b-e083d3568253"
      },
      "source": [
        "df_links.index # we should change indices"
      ],
      "execution_count": 494,
      "outputs": [
        {
          "output_type": "execute_result",
          "data": {
            "text/plain": [
              "Int64Index([    0,     1,     2,     3,     4,     5,     6,     7,     8,\n",
              "                9,\n",
              "            ...\n",
              "            39588, 39632, 39638, 39721, 39740, 39753, 39973, 40026, 40192,\n",
              "            40470],\n",
              "           dtype='int64', length=9082)"
            ]
          },
          "metadata": {
            "tags": []
          },
          "execution_count": 494
        }
      ]
    },
    {
      "cell_type": "code",
      "metadata": {
        "id": "ap-ZdGvfqR-r",
        "colab_type": "code",
        "colab": {}
      },
      "source": [
        "df_links.index = range(0,9082)"
      ],
      "execution_count": 495,
      "outputs": []
    },
    {
      "cell_type": "code",
      "metadata": {
        "colab_type": "code",
        "id": "FzKt084O0YkD",
        "colab": {}
      },
      "source": [
        "duplicated_indices = df_links.title[df_links.duplicated('title', keep=False)].index\n",
        "df_links.release_date = pd.to_datetime(df_links.release_date)\n",
        "duplicated_data = df_links.loc[duplicated_indices, ['title','release_date']].sort_values(by=['title','release_date'])\n",
        "duplicated_data['title_year'] = duplicated_data.title +' '+duplicated_data.release_date.dt.year.astype('str')"
      ],
      "execution_count": null,
      "outputs": []
    },
    {
      "cell_type": "code",
      "metadata": {
        "id": "aAnSwGNU0wAt",
        "colab_type": "code",
        "colab": {
          "base_uri": "https://localhost:8080/",
          "height": 35
        },
        "outputId": "67960806-3e43-4fe0-9a78-26440dc74f44"
      },
      "source": [
        "len(duplicated_data.title_year.unique()) # we have 520 unique values instead of 521"
      ],
      "execution_count": 497,
      "outputs": [
        {
          "output_type": "execute_result",
          "data": {
            "text/plain": [
              "520"
            ]
          },
          "metadata": {
            "tags": []
          },
          "execution_count": 497
        }
      ]
    },
    {
      "cell_type": "code",
      "metadata": {
        "colab_type": "code",
        "id": "FAI39Ngi0wUT",
        "colab": {
          "base_uri": "https://localhost:8080/",
          "height": 110
        },
        "outputId": "71ae554f-ec6b-49ed-8cc1-e4557292bcfb"
      },
      "source": [
        "duplicated_data[duplicated_data.title_year.duplicated(keep=False)] # 'Hamlet' was produced twice in the same year"
      ],
      "execution_count": 498,
      "outputs": [
        {
          "output_type": "execute_result",
          "data": {
            "text/html": [
              "<div>\n",
              "<style scoped>\n",
              "    .dataframe tbody tr th:only-of-type {\n",
              "        vertical-align: middle;\n",
              "    }\n",
              "\n",
              "    .dataframe tbody tr th {\n",
              "        vertical-align: top;\n",
              "    }\n",
              "\n",
              "    .dataframe thead th {\n",
              "        text-align: right;\n",
              "    }\n",
              "</style>\n",
              "<table border=\"1\" class=\"dataframe\">\n",
              "  <thead>\n",
              "    <tr style=\"text-align: right;\">\n",
              "      <th></th>\n",
              "      <th>title</th>\n",
              "      <th>release_date</th>\n",
              "      <th>title_year</th>\n",
              "    </tr>\n",
              "  </thead>\n",
              "  <tbody>\n",
              "    <tr>\n",
              "      <th>2867</th>\n",
              "      <td>Hamlet</td>\n",
              "      <td>2000-05-12</td>\n",
              "      <td>Hamlet 2000</td>\n",
              "    </tr>\n",
              "    <tr>\n",
              "      <th>7131</th>\n",
              "      <td>Hamlet</td>\n",
              "      <td>2000-12-10</td>\n",
              "      <td>Hamlet 2000</td>\n",
              "    </tr>\n",
              "  </tbody>\n",
              "</table>\n",
              "</div>"
            ],
            "text/plain": [
              "       title release_date   title_year\n",
              "2867  Hamlet   2000-05-12  Hamlet 2000\n",
              "7131  Hamlet   2000-12-10  Hamlet 2000"
            ]
          },
          "metadata": {
            "tags": []
          },
          "execution_count": 498
        }
      ]
    },
    {
      "cell_type": "code",
      "metadata": {
        "colab_type": "code",
        "id": "qouagJFP0wUd",
        "colab": {
          "base_uri": "https://localhost:8080/",
          "height": 35
        },
        "outputId": "391f5a0f-8df5-4caa-f10f-0ea5c8faf9d6"
      },
      "source": [
        "duplicated_data.loc[7131,['title_year']] = 'Hamlet 2000, 2'\n",
        "len(duplicated_data.title_year.unique()) # check"
      ],
      "execution_count": 499,
      "outputs": [
        {
          "output_type": "execute_result",
          "data": {
            "text/plain": [
              "521"
            ]
          },
          "metadata": {
            "tags": []
          },
          "execution_count": 499
        }
      ]
    },
    {
      "cell_type": "code",
      "metadata": {
        "colab_type": "code",
        "id": "AQbJ4d_O0wUk",
        "colab": {}
      },
      "source": [
        "duplicated_data.sort_index(inplace=True)\n",
        "df_links.loc[duplicated_indices,'title'] = duplicated_data.title_year"
      ],
      "execution_count": null,
      "outputs": []
    },
    {
      "cell_type": "code",
      "metadata": {
        "id": "PYIIbbF81sNz",
        "colab_type": "code",
        "colab": {
          "base_uri": "https://localhost:8080/",
          "height": 225
        },
        "outputId": "1296640e-acba-4023-c219-d8daae130757"
      },
      "source": [
        "df_links.loc[duplicated_indices,'title']"
      ],
      "execution_count": 501,
      "outputs": [
        {
          "output_type": "execute_result",
          "data": {
            "text/plain": [
              "6            Sabrina 1995\n",
              "25           Othello 1995\n",
              "27        Persuasion 1995\n",
              "54       The Postman 1994\n",
              "66         Fair Game 1995\n",
              "              ...        \n",
              "8958          Legend 2015\n",
              "8970         Everest 2015\n",
              "9014         Sisters 2015\n",
              "9043            Hush 2016\n",
              "9059    Ghostbusters 2016\n",
              "Name: title, Length: 521, dtype: object"
            ]
          },
          "metadata": {
            "tags": []
          },
          "execution_count": 501
        }
      ]
    },
    {
      "cell_type": "code",
      "metadata": {
        "id": "Z-2yQ_0YVTow",
        "colab_type": "code",
        "colab": {}
      },
      "source": [
        "from sklearn.feature_extraction.text import CountVectorizer\n",
        "# we'll use CountVectorizer instead of TFIDF, because we needn't penalize words\n",
        "count = CountVectorizer(stop_words='english')\n",
        "count_matrix = count.fit_transform(df_links.mixed_info) # this column - our content\n",
        "from sklearn.metrics.pairwise import cosine_similarity\n",
        "cos_sim = cosine_similarity(count_matrix, count_matrix)"
      ],
      "execution_count": 502,
      "outputs": []
    },
    {
      "cell_type": "code",
      "metadata": {
        "id": "zHX3qGc3qJH9",
        "colab_type": "code",
        "colab": {
          "base_uri": "https://localhost:8080/",
          "height": 35
        },
        "outputId": "e3642211-672a-4a62-c3a9-bcbebe4d8aa9"
      },
      "source": [
        "cos_sim.shape"
      ],
      "execution_count": 503,
      "outputs": [
        {
          "output_type": "execute_result",
          "data": {
            "text/plain": [
              "(9082, 9082)"
            ]
          },
          "metadata": {
            "tags": []
          },
          "execution_count": 503
        }
      ]
    },
    {
      "cell_type": "code",
      "metadata": {
        "id": "mBo1rsofV09T",
        "colab_type": "code",
        "colab": {}
      },
      "source": [
        "indices_2 = pd.Series(df_links.index, index=df_links.title) # the same approch as in the previous model"
      ],
      "execution_count": 504,
      "outputs": []
    },
    {
      "cell_type": "code",
      "metadata": {
        "id": "s7gkBpGF1bP_",
        "colab_type": "code",
        "colab": {
          "base_uri": "https://localhost:8080/",
          "height": 243
        },
        "outputId": "e5bcf621-2bd2-4829-c050-ebcea9f49082"
      },
      "source": [
        "indices_2"
      ],
      "execution_count": 505,
      "outputs": [
        {
          "output_type": "execute_result",
          "data": {
            "text/plain": [
              "title\n",
              "Toy Story                                                0\n",
              "Jumanji                                                  1\n",
              "Grumpier Old Men                                         2\n",
              "Waiting to Exhale                                        3\n",
              "Father of the Bride Part II                              4\n",
              "                                                      ... \n",
              "The Last Brickmaker in America                        9077\n",
              "Rustom                                                9078\n",
              "Mohenjo Daro                                          9079\n",
              "Shin Godzilla                                         9080\n",
              "The Beatles: Eight Days a Week - The Touring Years    9081\n",
              "Length: 9082, dtype: int64"
            ]
          },
          "metadata": {
            "tags": []
          },
          "execution_count": 505
        }
      ]
    },
    {
      "cell_type": "code",
      "metadata": {
        "id": "h4tPpJb5WVpj",
        "colab_type": "code",
        "colab": {}
      },
      "source": [
        "m = df_links.vote_count.quantile(0.85)\n",
        "def common_10_movies_modified(title, result='barplot'): # a little bit modified function\n",
        "  \"\"\"\n",
        "  Choose the type of the result: whether you want a simple chart (write 'table' as the 2nd argument) \n",
        "  or a tuple of movies and corresponding weigthed ratings\n",
        "  \"\"\"\n",
        "  idx = indices_2[title]\n",
        "  similarities = list(enumerate(cos_sim[idx]))\n",
        "  similarities = sorted(similarities, key= lambda x: x[1], reverse=True)\n",
        "  similarities = similarities[1:11]\n",
        "  sim_indices = [x[0] for x in similarities]\n",
        "  # add to the report weigthed rating according to IMDB calculation\n",
        "  movies = df_links.iloc[sim_indices][['title','vote_count','vote_average']]\n",
        "  movies['w_r'] = (movies['vote_count']/(movies['vote_count']+m) * movies['vote_average']) + (m/(m+movies['vote_count'])*movies['vote_average'].mean())\n",
        "  movies.sort_values('w_r',ascending=False, inplace=True)\n",
        "  if result == 'table':\n",
        "    return movies \n",
        "  return df_links.title.iloc[sim_indices], [x[1] for x in similarities]"
      ],
      "execution_count": 310,
      "outputs": []
    },
    {
      "cell_type": "code",
      "metadata": {
        "id": "j16U322IaDUu",
        "colab_type": "code",
        "colab": {
          "base_uri": "https://localhost:8080/",
          "height": 355
        },
        "outputId": "e2505a3c-addb-4cea-c8bb-0fcbf46ccbe3"
      },
      "source": [
        "common_10_movies_modified('Mean Girls', 'table')"
      ],
      "execution_count": 311,
      "outputs": [
        {
          "output_type": "execute_result",
          "data": {
            "text/html": [
              "<div>\n",
              "<style scoped>\n",
              "    .dataframe tbody tr th:only-of-type {\n",
              "        vertical-align: middle;\n",
              "    }\n",
              "\n",
              "    .dataframe tbody tr th {\n",
              "        vertical-align: top;\n",
              "    }\n",
              "\n",
              "    .dataframe thead th {\n",
              "        text-align: right;\n",
              "    }\n",
              "</style>\n",
              "<table border=\"1\" class=\"dataframe\">\n",
              "  <thead>\n",
              "    <tr style=\"text-align: right;\">\n",
              "      <th></th>\n",
              "      <th>title</th>\n",
              "      <th>vote_count</th>\n",
              "      <th>vote_average</th>\n",
              "      <th>w_r</th>\n",
              "    </tr>\n",
              "  </thead>\n",
              "  <tbody>\n",
              "    <tr>\n",
              "      <th>1616</th>\n",
              "      <td>The Parent Trap</td>\n",
              "      <td>768.0</td>\n",
              "      <td>6.8</td>\n",
              "      <td>6.312684</td>\n",
              "    </tr>\n",
              "    <tr>\n",
              "      <th>6200</th>\n",
              "      <td>Just Like Heaven</td>\n",
              "      <td>595.0</td>\n",
              "      <td>6.5</td>\n",
              "      <td>6.114340</td>\n",
              "    </tr>\n",
              "    <tr>\n",
              "      <th>4707</th>\n",
              "      <td>Freaky Friday</td>\n",
              "      <td>919.0</td>\n",
              "      <td>6.0</td>\n",
              "      <td>5.911461</td>\n",
              "    </tr>\n",
              "    <tr>\n",
              "      <th>1308</th>\n",
              "      <td>The House of Yes</td>\n",
              "      <td>30.0</td>\n",
              "      <td>6.3</td>\n",
              "      <td>5.819737</td>\n",
              "    </tr>\n",
              "    <tr>\n",
              "      <th>3157</th>\n",
              "      <td>The Ladies Man</td>\n",
              "      <td>35.0</td>\n",
              "      <td>5.7</td>\n",
              "      <td>5.795425</td>\n",
              "    </tr>\n",
              "    <tr>\n",
              "      <th>3298</th>\n",
              "      <td>Head Over Heels</td>\n",
              "      <td>73.0</td>\n",
              "      <td>5.3</td>\n",
              "      <td>5.754545</td>\n",
              "    </tr>\n",
              "    <tr>\n",
              "      <th>7800</th>\n",
              "      <td>Mr. Popper's Penguins</td>\n",
              "      <td>775.0</td>\n",
              "      <td>5.7</td>\n",
              "      <td>5.748505</td>\n",
              "    </tr>\n",
              "    <tr>\n",
              "      <th>4381</th>\n",
              "      <td>The Hot Chick</td>\n",
              "      <td>431.0</td>\n",
              "      <td>5.5</td>\n",
              "      <td>5.688630</td>\n",
              "    </tr>\n",
              "    <tr>\n",
              "      <th>5096</th>\n",
              "      <td>Confessions of a Teenage Drama Queen</td>\n",
              "      <td>228.0</td>\n",
              "      <td>5.1</td>\n",
              "      <td>5.633403</td>\n",
              "    </tr>\n",
              "    <tr>\n",
              "      <th>6144</th>\n",
              "      <td>Herbie Fully Loaded</td>\n",
              "      <td>559.0</td>\n",
              "      <td>5.1</td>\n",
              "      <td>5.496431</td>\n",
              "    </tr>\n",
              "  </tbody>\n",
              "</table>\n",
              "</div>"
            ],
            "text/plain": [
              "                                     title  vote_count  vote_average       w_r\n",
              "1616                       The Parent Trap       768.0           6.8  6.312684\n",
              "6200                      Just Like Heaven       595.0           6.5  6.114340\n",
              "4707                         Freaky Friday       919.0           6.0  5.911461\n",
              "1308                      The House of Yes        30.0           6.3  5.819737\n",
              "3157                        The Ladies Man        35.0           5.7  5.795425\n",
              "3298                       Head Over Heels        73.0           5.3  5.754545\n",
              "7800                 Mr. Popper's Penguins       775.0           5.7  5.748505\n",
              "4381                         The Hot Chick       431.0           5.5  5.688630\n",
              "5096  Confessions of a Teenage Drama Queen       228.0           5.1  5.633403\n",
              "6144                   Herbie Fully Loaded       559.0           5.1  5.496431"
            ]
          },
          "metadata": {
            "tags": []
          },
          "execution_count": 311
        }
      ]
    },
    {
      "cell_type": "code",
      "metadata": {
        "id": "EvrMK32zXPa_",
        "colab_type": "code",
        "colab": {
          "base_uri": "https://localhost:8080/",
          "height": 592
        },
        "outputId": "a9508134-8dec-4dc3-b5a0-558df6c306c7"
      },
      "source": [
        "movies_list = ['Toy Story', 'The Godfather', 'The Dark Knight', 'Jumanji']\n",
        "fig, ax = plt.subplots(4,1, figsize=(15,10))\n",
        "i = 0\n",
        "for name in movies_list:\n",
        "  movies, scores = common_10_movies_modified(name)\n",
        "  ax[i].barh(movies, scores, color='skyblue')\n",
        "  ax[i].invert_yaxis()\n",
        "  i += 1"
      ],
      "execution_count": 312,
      "outputs": [
        {
          "output_type": "display_data",
          "data": {
            "image/png": "[encoded data removed]",
            "text/plain": [
              "<Figure size 1080x720 with 4 Axes>"
            ]
          },
          "metadata": {
            "tags": [],
            "needs_background": "light"
          }
        }
      ]
    },
    {
      "cell_type": "markdown",
      "metadata": {
        "id": "lMUYlu6b_pWK",
        "colab_type": "text"
      },
      "source": [
        "As you can see this filter is doing better job by considering actors and other stuff. Unfortunately, this filter doesn't consider persons' tastes. We'll improve our filter in the next part."
      ]
    },
    {
      "cell_type": "markdown",
      "metadata": {
        "id": "oMqAAfeKkxVz",
        "colab_type": "text"
      },
      "source": [
        "**Collaborative filtering**"
      ]
    },
    {
      "cell_type": "code",
      "metadata": {
        "id": "am50aUYFtVVT",
        "colab_type": "code",
        "colab": {
          "base_uri": "https://localhost:8080/",
          "height": 52
        },
        "outputId": "28814db8-5454-4dc4-8bc3-821bfdcca855"
      },
      "source": [
        "!pip -q install surprise # we'll be using surprise module which is already made for user/item-based filtering"
      ],
      "execution_count": 108,
      "outputs": [
        {
          "output_type": "stream",
          "text": [
            "\u001b[K     |████████████████████████████████| 6.5MB 2.8MB/s \n",
            "\u001b[?25h  Building wheel for scikit-surprise (setup.py) ... \u001b[?25l\u001b[?25hdone\n"
          ],
          "name": "stdout"
        }
      ]
    },
    {
      "cell_type": "code",
      "metadata": {
        "id": "68mXw1nmtaLd",
        "colab_type": "code",
        "colab": {}
      },
      "source": [
        "from surprise import Dataset, SVD, Reader"
      ],
      "execution_count": 109,
      "outputs": []
    },
    {
      "cell_type": "code",
      "metadata": {
        "id": "PZphZiWgewpz",
        "colab_type": "code",
        "colab": {}
      },
      "source": [
        "ratings = pd.read_csv('/content/drive/My Drive/ratings_small.csv')"
      ],
      "execution_count": 110,
      "outputs": []
    },
    {
      "cell_type": "code",
      "metadata": {
        "id": "VxEIWZqgmDIz",
        "colab_type": "code",
        "colab": {
          "base_uri": "https://localhost:8080/",
          "height": 202
        },
        "outputId": "2ba8ce63-d512-42e5-d8d5-376d776788f9"
      },
      "source": [
        "ratings.head()"
      ],
      "execution_count": 111,
      "outputs": [
        {
          "output_type": "execute_result",
          "data": {
            "text/html": [
              "<div>\n",
              "<style scoped>\n",
              "    .dataframe tbody tr th:only-of-type {\n",
              "        vertical-align: middle;\n",
              "    }\n",
              "\n",
              "    .dataframe tbody tr th {\n",
              "        vertical-align: top;\n",
              "    }\n",
              "\n",
              "    .dataframe thead th {\n",
              "        text-align: right;\n",
              "    }\n",
              "</style>\n",
              "<table border=\"1\" class=\"dataframe\">\n",
              "  <thead>\n",
              "    <tr style=\"text-align: right;\">\n",
              "      <th></th>\n",
              "      <th>userId</th>\n",
              "      <th>movieId</th>\n",
              "      <th>rating</th>\n",
              "      <th>timestamp</th>\n",
              "    </tr>\n",
              "  </thead>\n",
              "  <tbody>\n",
              "    <tr>\n",
              "      <th>0</th>\n",
              "      <td>1</td>\n",
              "      <td>31</td>\n",
              "      <td>2.5</td>\n",
              "      <td>1260759144</td>\n",
              "    </tr>\n",
              "    <tr>\n",
              "      <th>1</th>\n",
              "      <td>1</td>\n",
              "      <td>1029</td>\n",
              "      <td>3.0</td>\n",
              "      <td>1260759179</td>\n",
              "    </tr>\n",
              "    <tr>\n",
              "      <th>2</th>\n",
              "      <td>1</td>\n",
              "      <td>1061</td>\n",
              "      <td>3.0</td>\n",
              "      <td>1260759182</td>\n",
              "    </tr>\n",
              "    <tr>\n",
              "      <th>3</th>\n",
              "      <td>1</td>\n",
              "      <td>1129</td>\n",
              "      <td>2.0</td>\n",
              "      <td>1260759185</td>\n",
              "    </tr>\n",
              "    <tr>\n",
              "      <th>4</th>\n",
              "      <td>1</td>\n",
              "      <td>1172</td>\n",
              "      <td>4.0</td>\n",
              "      <td>1260759205</td>\n",
              "    </tr>\n",
              "  </tbody>\n",
              "</table>\n",
              "</div>"
            ],
            "text/plain": [
              "   userId  movieId  rating   timestamp\n",
              "0       1       31     2.5  1260759144\n",
              "1       1     1029     3.0  1260759179\n",
              "2       1     1061     3.0  1260759182\n",
              "3       1     1129     2.0  1260759185\n",
              "4       1     1172     4.0  1260759205"
            ]
          },
          "metadata": {
            "tags": []
          },
          "execution_count": 111
        }
      ]
    },
    {
      "cell_type": "code",
      "metadata": {
        "id": "3HvL1spXtlOt",
        "colab_type": "code",
        "colab": {}
      },
      "source": [
        "reader = Reader()\n",
        "dataset = Dataset.load_from_df(ratings.iloc[:,:3], reader)"
      ],
      "execution_count": 112,
      "outputs": []
    },
    {
      "cell_type": "code",
      "metadata": {
        "id": "WiHiZFUuuHII",
        "colab_type": "code",
        "colab": {}
      },
      "source": [
        "svd = SVD()"
      ],
      "execution_count": 113,
      "outputs": []
    },
    {
      "cell_type": "code",
      "metadata": {
        "id": "TTU2XtUNuU8u",
        "colab_type": "code",
        "colab": {}
      },
      "source": [
        "dataset = dataset.build_full_trainset()\n",
        "svd = svd.fit(dataset)"
      ],
      "execution_count": 114,
      "outputs": []
    },
    {
      "cell_type": "code",
      "metadata": {
        "id": "rz-hiLkpvMwK",
        "colab_type": "code",
        "colab": {
          "base_uri": "https://localhost:8080/",
          "height": 35
        },
        "outputId": "8046c5ba-13e1-4617-c35d-aad5e5522def"
      },
      "source": [
        "svd.predict(1, 302, 3) \n",
        "# the prediction for user 1 for a movie's index 302 is 2.81 which is close to the true value 3"
      ],
      "execution_count": 115,
      "outputs": [
        {
          "output_type": "execute_result",
          "data": {
            "text/plain": [
              "Prediction(uid=1, iid=302, r_ui=3, est=2.81699705229459, details={'was_impossible': False})"
            ]
          },
          "metadata": {
            "tags": []
          },
          "execution_count": 115
        }
      ]
    },
    {
      "cell_type": "markdown",
      "metadata": {
        "id": "8xQXkYFNzT8X",
        "colab_type": "text"
      },
      "source": [
        "**Combined model**\n",
        "\n",
        "We'll use trained SVD in this model. Given UserId and Title of the movie it outputs a table of movies, which User is probably going to like based on his ratings for other movies."
      ]
    },
    {
      "cell_type": "code",
      "metadata": {
        "id": "PUZ31jwUB_X-",
        "colab_type": "code",
        "colab": {
          "base_uri": "https://localhost:8080/",
          "height": 202
        },
        "outputId": "a57e2fe1-c23b-48ab-a59f-144873a769a8"
      },
      "source": [
        "links.head() # remember our links data set"
      ],
      "execution_count": 116,
      "outputs": [
        {
          "output_type": "execute_result",
          "data": {
            "text/html": [
              "<div>\n",
              "<style scoped>\n",
              "    .dataframe tbody tr th:only-of-type {\n",
              "        vertical-align: middle;\n",
              "    }\n",
              "\n",
              "    .dataframe tbody tr th {\n",
              "        vertical-align: top;\n",
              "    }\n",
              "\n",
              "    .dataframe thead th {\n",
              "        text-align: right;\n",
              "    }\n",
              "</style>\n",
              "<table border=\"1\" class=\"dataframe\">\n",
              "  <thead>\n",
              "    <tr style=\"text-align: right;\">\n",
              "      <th></th>\n",
              "      <th>movieId</th>\n",
              "      <th>imdbId</th>\n",
              "      <th>tmdbId</th>\n",
              "    </tr>\n",
              "  </thead>\n",
              "  <tbody>\n",
              "    <tr>\n",
              "      <th>0</th>\n",
              "      <td>1</td>\n",
              "      <td>114709</td>\n",
              "      <td>862</td>\n",
              "    </tr>\n",
              "    <tr>\n",
              "      <th>1</th>\n",
              "      <td>2</td>\n",
              "      <td>113497</td>\n",
              "      <td>8844</td>\n",
              "    </tr>\n",
              "    <tr>\n",
              "      <th>2</th>\n",
              "      <td>3</td>\n",
              "      <td>113228</td>\n",
              "      <td>15602</td>\n",
              "    </tr>\n",
              "    <tr>\n",
              "      <th>3</th>\n",
              "      <td>4</td>\n",
              "      <td>114885</td>\n",
              "      <td>31357</td>\n",
              "    </tr>\n",
              "    <tr>\n",
              "      <th>4</th>\n",
              "      <td>5</td>\n",
              "      <td>113041</td>\n",
              "      <td>11862</td>\n",
              "    </tr>\n",
              "  </tbody>\n",
              "</table>\n",
              "</div>"
            ],
            "text/plain": [
              "   movieId  imdbId tmdbId\n",
              "0        1  114709    862\n",
              "1        2  113497   8844\n",
              "2        3  113228  15602\n",
              "3        4  114885  31357\n",
              "4        5  113041  11862"
            ]
          },
          "metadata": {
            "tags": []
          },
          "execution_count": 116
        }
      ]
    },
    {
      "cell_type": "code",
      "metadata": {
        "id": "B56vQTSIhzzG",
        "colab_type": "code",
        "colab": {}
      },
      "source": [
        "id_map = links.iloc[:,[0,2]] \n",
        "id_map.rename(columns={'tmdbId':'id'},inplace=True)"
      ],
      "execution_count": null,
      "outputs": []
    },
    {
      "cell_type": "code",
      "metadata": {
        "id": "v6Qzpt8Cjn3j",
        "colab_type": "code",
        "colab": {
          "base_uri": "https://localhost:8080/",
          "height": 202
        },
        "outputId": "f2332f41-b2e3-464d-bce3-032cb1847eda"
      },
      "source": [
        "id_map.head()"
      ],
      "execution_count": 314,
      "outputs": [
        {
          "output_type": "execute_result",
          "data": {
            "text/html": [
              "<div>\n",
              "<style scoped>\n",
              "    .dataframe tbody tr th:only-of-type {\n",
              "        vertical-align: middle;\n",
              "    }\n",
              "\n",
              "    .dataframe tbody tr th {\n",
              "        vertical-align: top;\n",
              "    }\n",
              "\n",
              "    .dataframe thead th {\n",
              "        text-align: right;\n",
              "    }\n",
              "</style>\n",
              "<table border=\"1\" class=\"dataframe\">\n",
              "  <thead>\n",
              "    <tr style=\"text-align: right;\">\n",
              "      <th></th>\n",
              "      <th>movieId</th>\n",
              "      <th>id</th>\n",
              "    </tr>\n",
              "  </thead>\n",
              "  <tbody>\n",
              "    <tr>\n",
              "      <th>0</th>\n",
              "      <td>1</td>\n",
              "      <td>862</td>\n",
              "    </tr>\n",
              "    <tr>\n",
              "      <th>1</th>\n",
              "      <td>2</td>\n",
              "      <td>8844</td>\n",
              "    </tr>\n",
              "    <tr>\n",
              "      <th>2</th>\n",
              "      <td>3</td>\n",
              "      <td>15602</td>\n",
              "    </tr>\n",
              "    <tr>\n",
              "      <th>3</th>\n",
              "      <td>4</td>\n",
              "      <td>31357</td>\n",
              "    </tr>\n",
              "    <tr>\n",
              "      <th>4</th>\n",
              "      <td>5</td>\n",
              "      <td>11862</td>\n",
              "    </tr>\n",
              "  </tbody>\n",
              "</table>\n",
              "</div>"
            ],
            "text/plain": [
              "   movieId     id\n",
              "0        1    862\n",
              "1        2   8844\n",
              "2        3  15602\n",
              "3        4  31357\n",
              "4        5  11862"
            ]
          },
          "metadata": {
            "tags": []
          },
          "execution_count": 314
        }
      ]
    },
    {
      "cell_type": "code",
      "metadata": {
        "id": "G_V-wuu3XnER",
        "colab_type": "code",
        "colab": {
          "base_uri": "https://localhost:8080/",
          "height": 35
        },
        "outputId": "493bcc18-21d4-41c1-92e9-0240bc9e0785"
      },
      "source": [
        "id_map.id.duplicated().sum() # check"
      ],
      "execution_count": 316,
      "outputs": [
        {
          "output_type": "execute_result",
          "data": {
            "text/plain": [
              "0"
            ]
          },
          "metadata": {
            "tags": []
          },
          "execution_count": 316
        }
      ]
    },
    {
      "cell_type": "code",
      "metadata": {
        "id": "6w6ogvmWiNsi",
        "colab_type": "code",
        "colab": {}
      },
      "source": [
        "id_map = id_map.merge(df_links[['title','id']], on='id')"
      ],
      "execution_count": 459,
      "outputs": []
    },
    {
      "cell_type": "code",
      "metadata": {
        "id": "R1FFabuIjJ1t",
        "colab_type": "code",
        "colab": {}
      },
      "source": [
        "id_map = id_map.set_index('title')"
      ],
      "execution_count": 462,
      "outputs": []
    },
    {
      "cell_type": "code",
      "metadata": {
        "id": "CWcK2mFICRyJ",
        "colab_type": "code",
        "colab": {
          "base_uri": "https://localhost:8080/",
          "height": 35
        },
        "outputId": "b8dd9f7b-f4b7-4c07-c3d6-673cb93f1cf6"
      },
      "source": [
        "id_map.shape"
      ],
      "execution_count": 463,
      "outputs": [
        {
          "output_type": "execute_result",
          "data": {
            "text/plain": [
              "(9082, 2)"
            ]
          },
          "metadata": {
            "tags": []
          },
          "execution_count": 463
        }
      ]
    },
    {
      "cell_type": "code",
      "metadata": {
        "id": "8t-PCtonxeSA",
        "colab_type": "code",
        "colab": {
          "base_uri": "https://localhost:8080/",
          "height": 233
        },
        "outputId": "5089baf3-3bfe-46a1-9547-8801227fb3c8"
      },
      "source": [
        "id_map.head()"
      ],
      "execution_count": 507,
      "outputs": [
        {
          "output_type": "execute_result",
          "data": {
            "text/html": [
              "<div>\n",
              "<style scoped>\n",
              "    .dataframe tbody tr th:only-of-type {\n",
              "        vertical-align: middle;\n",
              "    }\n",
              "\n",
              "    .dataframe tbody tr th {\n",
              "        vertical-align: top;\n",
              "    }\n",
              "\n",
              "    .dataframe thead th {\n",
              "        text-align: right;\n",
              "    }\n",
              "</style>\n",
              "<table border=\"1\" class=\"dataframe\">\n",
              "  <thead>\n",
              "    <tr style=\"text-align: right;\">\n",
              "      <th></th>\n",
              "      <th>movieId</th>\n",
              "      <th>id</th>\n",
              "    </tr>\n",
              "    <tr>\n",
              "      <th>title</th>\n",
              "      <th></th>\n",
              "      <th></th>\n",
              "    </tr>\n",
              "  </thead>\n",
              "  <tbody>\n",
              "    <tr>\n",
              "      <th>Toy Story</th>\n",
              "      <td>1</td>\n",
              "      <td>862</td>\n",
              "    </tr>\n",
              "    <tr>\n",
              "      <th>Jumanji</th>\n",
              "      <td>2</td>\n",
              "      <td>8844</td>\n",
              "    </tr>\n",
              "    <tr>\n",
              "      <th>Grumpier Old Men</th>\n",
              "      <td>3</td>\n",
              "      <td>15602</td>\n",
              "    </tr>\n",
              "    <tr>\n",
              "      <th>Waiting to Exhale</th>\n",
              "      <td>4</td>\n",
              "      <td>31357</td>\n",
              "    </tr>\n",
              "    <tr>\n",
              "      <th>Father of the Bride Part II</th>\n",
              "      <td>5</td>\n",
              "      <td>11862</td>\n",
              "    </tr>\n",
              "  </tbody>\n",
              "</table>\n",
              "</div>"
            ],
            "text/plain": [
              "                             movieId     id\n",
              "title                                      \n",
              "Toy Story                          1    862\n",
              "Jumanji                            2   8844\n",
              "Grumpier Old Men                   3  15602\n",
              "Waiting to Exhale                  4  31357\n",
              "Father of the Bride Part II        5  11862"
            ]
          },
          "metadata": {
            "tags": []
          },
          "execution_count": 507
        }
      ]
    },
    {
      "cell_type": "code",
      "metadata": {
        "id": "NczeywMKj8Id",
        "colab_type": "code",
        "colab": {}
      },
      "source": [
        "id_movieId = id_map.set_index('id')"
      ],
      "execution_count": 470,
      "outputs": []
    },
    {
      "cell_type": "code",
      "metadata": {
        "id": "Ew_TJcz6kSTw",
        "colab_type": "code",
        "colab": {
          "base_uri": "https://localhost:8080/",
          "height": 233
        },
        "outputId": "a8e19422-045b-4293-d75d-8425edeb6123"
      },
      "source": [
        "id_movieId.head()"
      ],
      "execution_count": 471,
      "outputs": [
        {
          "output_type": "execute_result",
          "data": {
            "text/html": [
              "<div>\n",
              "<style scoped>\n",
              "    .dataframe tbody tr th:only-of-type {\n",
              "        vertical-align: middle;\n",
              "    }\n",
              "\n",
              "    .dataframe tbody tr th {\n",
              "        vertical-align: top;\n",
              "    }\n",
              "\n",
              "    .dataframe thead th {\n",
              "        text-align: right;\n",
              "    }\n",
              "</style>\n",
              "<table border=\"1\" class=\"dataframe\">\n",
              "  <thead>\n",
              "    <tr style=\"text-align: right;\">\n",
              "      <th></th>\n",
              "      <th>movieId</th>\n",
              "    </tr>\n",
              "    <tr>\n",
              "      <th>id</th>\n",
              "      <th></th>\n",
              "    </tr>\n",
              "  </thead>\n",
              "  <tbody>\n",
              "    <tr>\n",
              "      <th>862</th>\n",
              "      <td>1</td>\n",
              "    </tr>\n",
              "    <tr>\n",
              "      <th>8844</th>\n",
              "      <td>2</td>\n",
              "    </tr>\n",
              "    <tr>\n",
              "      <th>15602</th>\n",
              "      <td>3</td>\n",
              "    </tr>\n",
              "    <tr>\n",
              "      <th>31357</th>\n",
              "      <td>4</td>\n",
              "    </tr>\n",
              "    <tr>\n",
              "      <th>11862</th>\n",
              "      <td>5</td>\n",
              "    </tr>\n",
              "  </tbody>\n",
              "</table>\n",
              "</div>"
            ],
            "text/plain": [
              "       movieId\n",
              "id            \n",
              "862          1\n",
              "8844         2\n",
              "15602        3\n",
              "31357        4\n",
              "11862        5"
            ]
          },
          "metadata": {
            "tags": []
          },
          "execution_count": 471
        }
      ]
    },
    {
      "cell_type": "code",
      "metadata": {
        "id": "ydFeFT6kmulP",
        "colab_type": "code",
        "colab": {}
      },
      "source": [
        "def combined_model(userId, title):\n",
        "  \"\"\"\n",
        "  Given UserId and Title of the movie it outputs a table of movies, \n",
        "  which User is probably going to like, based on his ratings for other movies.\n",
        "  \"\"\"\n",
        "  idx = indices_2[title]\n",
        "  sim_scores = list(enumerate(cos_sim[idx]))\n",
        "  sim_scores = sorted(sim_scores, key=lambda x: x[1], reverse=True)\n",
        "  sim_scores = sim_scores[1:11]\n",
        "  movie_indices = [i[0] for i in sim_scores]\n",
        "  movies = df_links.iloc[movie_indices][['title', 'vote_count', 'vote_average', 'id']]\n",
        "  # using our trained SVD on ratings dataset\n",
        "  movies['estimated'] = movies['id'].apply(lambda x: svd.predict(userId, id_movieId.loc[x]['movieId']).est) \n",
        "  movies = movies.sort_values('estimated', ascending=False)\n",
        "  return movies"
      ],
      "execution_count": 472,
      "outputs": []
    },
    {
      "cell_type": "code",
      "metadata": {
        "id": "jGbKV9Bs0PW3",
        "colab_type": "code",
        "colab": {
          "base_uri": "https://localhost:8080/",
          "height": 202
        },
        "outputId": "03879f9d-84f4-48fa-d636-280546346743"
      },
      "source": [
        "combined_model(234,'Avatar').head() "
      ],
      "execution_count": 473,
      "outputs": [
        {
          "output_type": "execute_result",
          "data": {
            "text/html": [
              "<div>\n",
              "<style scoped>\n",
              "    .dataframe tbody tr th:only-of-type {\n",
              "        vertical-align: middle;\n",
              "    }\n",
              "\n",
              "    .dataframe tbody tr th {\n",
              "        vertical-align: top;\n",
              "    }\n",
              "\n",
              "    .dataframe thead th {\n",
              "        text-align: right;\n",
              "    }\n",
              "</style>\n",
              "<table border=\"1\" class=\"dataframe\">\n",
              "  <thead>\n",
              "    <tr style=\"text-align: right;\">\n",
              "      <th></th>\n",
              "      <th>title</th>\n",
              "      <th>vote_count</th>\n",
              "      <th>vote_average</th>\n",
              "      <th>id</th>\n",
              "      <th>estimated</th>\n",
              "    </tr>\n",
              "  </thead>\n",
              "  <tbody>\n",
              "    <tr>\n",
              "      <th>1220</th>\n",
              "      <td>The Fifth Element</td>\n",
              "      <td>3962.0</td>\n",
              "      <td>7.3</td>\n",
              "      <td>18</td>\n",
              "      <td>3.992602</td>\n",
              "    </tr>\n",
              "    <tr>\n",
              "      <th>953</th>\n",
              "      <td>Aliens</td>\n",
              "      <td>3282.0</td>\n",
              "      <td>7.7</td>\n",
              "      <td>679</td>\n",
              "      <td>3.954964</td>\n",
              "    </tr>\n",
              "    <tr>\n",
              "      <th>901</th>\n",
              "      <td>The Abyss</td>\n",
              "      <td>822.0</td>\n",
              "      <td>7.1</td>\n",
              "      <td>2756</td>\n",
              "      <td>3.764226</td>\n",
              "    </tr>\n",
              "    <tr>\n",
              "      <th>1025</th>\n",
              "      <td>Highlander</td>\n",
              "      <td>642.0</td>\n",
              "      <td>6.8</td>\n",
              "      <td>8009</td>\n",
              "      <td>3.694991</td>\n",
              "    </tr>\n",
              "    <tr>\n",
              "      <th>1255</th>\n",
              "      <td>Conan the Barbarian</td>\n",
              "      <td>663.0</td>\n",
              "      <td>6.6</td>\n",
              "      <td>9387</td>\n",
              "      <td>3.547194</td>\n",
              "    </tr>\n",
              "  </tbody>\n",
              "</table>\n",
              "</div>"
            ],
            "text/plain": [
              "                    title  vote_count  vote_average    id  estimated\n",
              "1220    The Fifth Element      3962.0           7.3    18   3.992602\n",
              "953                Aliens      3282.0           7.7   679   3.954964\n",
              "901             The Abyss       822.0           7.1  2756   3.764226\n",
              "1025           Highlander       642.0           6.8  8009   3.694991\n",
              "1255  Conan the Barbarian       663.0           6.6  9387   3.547194"
            ]
          },
          "metadata": {
            "tags": []
          },
          "execution_count": 473
        }
      ]
    },
    {
      "cell_type": "markdown",
      "metadata": {
        "id": "ppGbjwg3EKil",
        "colab_type": "text"
      },
      "source": [
        "If you try different users, you'll see that a list of movies is the same, but estimated ratings, which user is probably going to give are different."
      ]
    },
    {
      "cell_type": "code",
      "metadata": {
        "id": "mCEK7NsFZVOC",
        "colab_type": "code",
        "colab": {
          "base_uri": "https://localhost:8080/",
          "height": 202
        },
        "outputId": "2deeccd3-18a0-40d0-8411-d88e72463390"
      },
      "source": [
        "combined_model(76,'The Godfather').head() "
      ],
      "execution_count": 133,
      "outputs": [
        {
          "output_type": "execute_result",
          "data": {
            "text/html": [
              "<div>\n",
              "<style scoped>\n",
              "    .dataframe tbody tr th:only-of-type {\n",
              "        vertical-align: middle;\n",
              "    }\n",
              "\n",
              "    .dataframe tbody tr th {\n",
              "        vertical-align: top;\n",
              "    }\n",
              "\n",
              "    .dataframe thead th {\n",
              "        text-align: right;\n",
              "    }\n",
              "</style>\n",
              "<table border=\"1\" class=\"dataframe\">\n",
              "  <thead>\n",
              "    <tr style=\"text-align: right;\">\n",
              "      <th></th>\n",
              "      <th>title</th>\n",
              "      <th>vote_count</th>\n",
              "      <th>vote_average</th>\n",
              "      <th>id</th>\n",
              "      <th>estimated</th>\n",
              "    </tr>\n",
              "  </thead>\n",
              "  <tbody>\n",
              "    <tr>\n",
              "      <th>982</th>\n",
              "      <td>The Godfather: Part II</td>\n",
              "      <td>3418.0</td>\n",
              "      <td>8.3</td>\n",
              "      <td>240</td>\n",
              "      <td>4.711210</td>\n",
              "    </tr>\n",
              "    <tr>\n",
              "      <th>969</th>\n",
              "      <td>Apocalypse Now</td>\n",
              "      <td>2112.0</td>\n",
              "      <td>8.0</td>\n",
              "      <td>28</td>\n",
              "      <td>4.310452</td>\n",
              "    </tr>\n",
              "    <tr>\n",
              "      <th>1192</th>\n",
              "      <td>Donnie Brasco</td>\n",
              "      <td>1175.0</td>\n",
              "      <td>7.4</td>\n",
              "      <td>9366</td>\n",
              "      <td>4.122397</td>\n",
              "    </tr>\n",
              "    <tr>\n",
              "      <th>892</th>\n",
              "      <td>Glengarry Glen Ross</td>\n",
              "      <td>330.0</td>\n",
              "      <td>7.5</td>\n",
              "      <td>9504</td>\n",
              "      <td>3.930311</td>\n",
              "    </tr>\n",
              "    <tr>\n",
              "      <th>5</th>\n",
              "      <td>Heat</td>\n",
              "      <td>1886.0</td>\n",
              "      <td>7.7</td>\n",
              "      <td>949</td>\n",
              "      <td>3.832404</td>\n",
              "    </tr>\n",
              "  </tbody>\n",
              "</table>\n",
              "</div>"
            ],
            "text/plain": [
              "                       title  vote_count  vote_average    id  estimated\n",
              "982   The Godfather: Part II      3418.0           8.3   240   4.711210\n",
              "969           Apocalypse Now      2112.0           8.0    28   4.310452\n",
              "1192           Donnie Brasco      1175.0           7.4  9366   4.122397\n",
              "892      Glengarry Glen Ross       330.0           7.5  9504   3.930311\n",
              "5                       Heat      1886.0           7.7   949   3.832404"
            ]
          },
          "metadata": {
            "tags": []
          },
          "execution_count": 133
        }
      ]
    },
    {
      "cell_type": "code",
      "metadata": {
        "id": "f9Y86-qvEYgI",
        "colab_type": "code",
        "colab": {
          "base_uri": "https://localhost:8080/",
          "height": 202
        },
        "outputId": "25311d36-4442-487d-d816-062197851a35"
      },
      "source": [
        "combined_model(76,'Forrest Gump').head() \n",
        "# user 76 ratings are lower for romantic movies, \n",
        "# so we may conclude that he's a fan of 'man' movies"
      ],
      "execution_count": 153,
      "outputs": [
        {
          "output_type": "execute_result",
          "data": {
            "text/html": [
              "<div>\n",
              "<style scoped>\n",
              "    .dataframe tbody tr th:only-of-type {\n",
              "        vertical-align: middle;\n",
              "    }\n",
              "\n",
              "    .dataframe tbody tr th {\n",
              "        vertical-align: top;\n",
              "    }\n",
              "\n",
              "    .dataframe thead th {\n",
              "        text-align: right;\n",
              "    }\n",
              "</style>\n",
              "<table border=\"1\" class=\"dataframe\">\n",
              "  <thead>\n",
              "    <tr style=\"text-align: right;\">\n",
              "      <th></th>\n",
              "      <th>title</th>\n",
              "      <th>vote_count</th>\n",
              "      <th>vote_average</th>\n",
              "      <th>id</th>\n",
              "      <th>estimated</th>\n",
              "    </tr>\n",
              "  </thead>\n",
              "  <tbody>\n",
              "    <tr>\n",
              "      <th>7848</th>\n",
              "      <td>Larry Crowne</td>\n",
              "      <td>369.0</td>\n",
              "      <td>5.7</td>\n",
              "      <td>59861</td>\n",
              "      <td>3.645765</td>\n",
              "    </tr>\n",
              "    <tr>\n",
              "      <th>483</th>\n",
              "      <td>Sleepless in Seattle</td>\n",
              "      <td>630.0</td>\n",
              "      <td>6.5</td>\n",
              "      <td>858</td>\n",
              "      <td>3.629289</td>\n",
              "    </tr>\n",
              "    <tr>\n",
              "      <th>1933</th>\n",
              "      <td>Nothing in Common</td>\n",
              "      <td>30.0</td>\n",
              "      <td>6.1</td>\n",
              "      <td>29968</td>\n",
              "      <td>3.585795</td>\n",
              "    </tr>\n",
              "    <tr>\n",
              "      <th>850</th>\n",
              "      <td>That Thing You Do!</td>\n",
              "      <td>230.0</td>\n",
              "      <td>6.8</td>\n",
              "      <td>9591</td>\n",
              "      <td>3.466976</td>\n",
              "    </tr>\n",
              "    <tr>\n",
              "      <th>1949</th>\n",
              "      <td>Hurlyburly</td>\n",
              "      <td>22.0</td>\n",
              "      <td>5.6</td>\n",
              "      <td>24525</td>\n",
              "      <td>3.321422</td>\n",
              "    </tr>\n",
              "  </tbody>\n",
              "</table>\n",
              "</div>"
            ],
            "text/plain": [
              "                     title  vote_count  vote_average     id  estimated\n",
              "7848          Larry Crowne       369.0           5.7  59861   3.645765\n",
              "483   Sleepless in Seattle       630.0           6.5    858   3.629289\n",
              "1933     Nothing in Common        30.0           6.1  29968   3.585795\n",
              "850     That Thing You Do!       230.0           6.8   9591   3.466976\n",
              "1949            Hurlyburly        22.0           5.6  24525   3.321422"
            ]
          },
          "metadata": {
            "tags": []
          },
          "execution_count": 153
        }
      ]
    },
    {
      "cell_type": "code",
      "metadata": {
        "id": "Lshrjopz4P-H",
        "colab_type": "code",
        "colab": {
          "base_uri": "https://localhost:8080/",
          "height": 355
        },
        "outputId": "a075a47c-076b-42d2-85db-b9195b45ba70"
      },
      "source": [
        "popular_movies_age = df_links.loc[duplicated_indices, ['title','popularity']].sort_values('popularity', ascending=False)\n",
        "popular_movies_age.head(10) # make this table to ease your choice for the appropriate year for the movie"
      ],
      "execution_count": 514,
      "outputs": [
        {
          "output_type": "execute_result",
          "data": {
            "text/html": [
              "<div>\n",
              "<style scoped>\n",
              "    .dataframe tbody tr th:only-of-type {\n",
              "        vertical-align: middle;\n",
              "    }\n",
              "\n",
              "    .dataframe tbody tr th {\n",
              "        vertical-align: top;\n",
              "    }\n",
              "\n",
              "    .dataframe thead th {\n",
              "        text-align: right;\n",
              "    }\n",
              "</style>\n",
              "<table border=\"1\" class=\"dataframe\">\n",
              "  <thead>\n",
              "    <tr style=\"text-align: right;\">\n",
              "      <th></th>\n",
              "      <th>title</th>\n",
              "      <th>popularity</th>\n",
              "    </tr>\n",
              "  </thead>\n",
              "  <tbody>\n",
              "    <tr>\n",
              "      <th>7864</th>\n",
              "      <td>The Avengers 2012</td>\n",
              "      <td>89.887648</td>\n",
              "    </tr>\n",
              "    <tr>\n",
              "      <th>971</th>\n",
              "      <td>Psycho 1960</td>\n",
              "      <td>36.826309</td>\n",
              "    </tr>\n",
              "    <tr>\n",
              "      <th>8658</th>\n",
              "      <td>Fury 2014</td>\n",
              "      <td>36.713807</td>\n",
              "    </tr>\n",
              "    <tr>\n",
              "      <th>7074</th>\n",
              "      <td>Twilight 2008</td>\n",
              "      <td>31.282029</td>\n",
              "    </tr>\n",
              "    <tr>\n",
              "      <th>1355</th>\n",
              "      <td>Titanic 1997</td>\n",
              "      <td>26.889070</td>\n",
              "    </tr>\n",
              "    <tr>\n",
              "      <th>2090</th>\n",
              "      <td>The Mummy 1999</td>\n",
              "      <td>23.984065</td>\n",
              "    </tr>\n",
              "    <tr>\n",
              "      <th>8920</th>\n",
              "      <td>The Revenant 2015</td>\n",
              "      <td>23.501228</td>\n",
              "    </tr>\n",
              "    <tr>\n",
              "      <th>527</th>\n",
              "      <td>Beauty and the Beast 1991</td>\n",
              "      <td>23.433511</td>\n",
              "    </tr>\n",
              "    <tr>\n",
              "      <th>6554</th>\n",
              "      <td>Casino Royale 2006</td>\n",
              "      <td>23.065078</td>\n",
              "    </tr>\n",
              "    <tr>\n",
              "      <th>1634</th>\n",
              "      <td>The Jungle Book 1967</td>\n",
              "      <td>22.845448</td>\n",
              "    </tr>\n",
              "  </tbody>\n",
              "</table>\n",
              "</div>"
            ],
            "text/plain": [
              "                          title  popularity\n",
              "7864          The Avengers 2012   89.887648\n",
              "971                 Psycho 1960   36.826309\n",
              "8658                  Fury 2014   36.713807\n",
              "7074              Twilight 2008   31.282029\n",
              "1355               Titanic 1997   26.889070\n",
              "2090             The Mummy 1999   23.984065\n",
              "8920          The Revenant 2015   23.501228\n",
              "527   Beauty and the Beast 1991   23.433511\n",
              "6554         Casino Royale 2006   23.065078\n",
              "1634       The Jungle Book 1967   22.845448"
            ]
          },
          "metadata": {
            "tags": []
          },
          "execution_count": 514
        }
      ]
    },
    {
      "cell_type": "code",
      "metadata": {
        "id": "4MbywKHNGmdD",
        "colab_type": "code",
        "colab": {
          "base_uri": "https://localhost:8080/",
          "height": 202
        },
        "outputId": "5113a36e-3f4f-42da-d59a-02c25e9d0083"
      },
      "source": [
        "combined_model(76,'Titanic 1997').head() # don't forget to point age for a movie"
      ],
      "execution_count": 510,
      "outputs": [
        {
          "output_type": "execute_result",
          "data": {
            "text/html": [
              "<div>\n",
              "<style scoped>\n",
              "    .dataframe tbody tr th:only-of-type {\n",
              "        vertical-align: middle;\n",
              "    }\n",
              "\n",
              "    .dataframe tbody tr th {\n",
              "        vertical-align: top;\n",
              "    }\n",
              "\n",
              "    .dataframe thead th {\n",
              "        text-align: right;\n",
              "    }\n",
              "</style>\n",
              "<table border=\"1\" class=\"dataframe\">\n",
              "  <thead>\n",
              "    <tr style=\"text-align: right;\">\n",
              "      <th></th>\n",
              "      <th>title</th>\n",
              "      <th>vote_count</th>\n",
              "      <th>vote_average</th>\n",
              "      <th>id</th>\n",
              "      <th>estimated</th>\n",
              "    </tr>\n",
              "  </thead>\n",
              "  <tbody>\n",
              "    <tr>\n",
              "      <th>16</th>\n",
              "      <td>Sense and Sensibility</td>\n",
              "      <td>364.0</td>\n",
              "      <td>7.2</td>\n",
              "      <td>4584</td>\n",
              "      <td>3.948623</td>\n",
              "    </tr>\n",
              "    <tr>\n",
              "      <th>852</th>\n",
              "      <td>Jude</td>\n",
              "      <td>38.0</td>\n",
              "      <td>6.6</td>\n",
              "      <td>25147</td>\n",
              "      <td>3.935516</td>\n",
              "    </tr>\n",
              "    <tr>\n",
              "      <th>302</th>\n",
              "      <td>What's Eating Gilbert Grape</td>\n",
              "      <td>943.0</td>\n",
              "      <td>7.5</td>\n",
              "      <td>1587</td>\n",
              "      <td>3.783984</td>\n",
              "    </tr>\n",
              "    <tr>\n",
              "      <th>6532</th>\n",
              "      <td>Little Children</td>\n",
              "      <td>243.0</td>\n",
              "      <td>6.9</td>\n",
              "      <td>1440</td>\n",
              "      <td>3.715620</td>\n",
              "    </tr>\n",
              "    <tr>\n",
              "      <th>2073</th>\n",
              "      <td>Hideous Kinky</td>\n",
              "      <td>23.0</td>\n",
              "      <td>6.2</td>\n",
              "      <td>10209</td>\n",
              "      <td>3.630958</td>\n",
              "    </tr>\n",
              "  </tbody>\n",
              "</table>\n",
              "</div>"
            ],
            "text/plain": [
              "                            title  vote_count  vote_average     id  estimated\n",
              "16          Sense and Sensibility       364.0           7.2   4584   3.948623\n",
              "852                          Jude        38.0           6.6  25147   3.935516\n",
              "302   What's Eating Gilbert Grape       943.0           7.5   1587   3.783984\n",
              "6532              Little Children       243.0           6.9   1440   3.715620\n",
              "2073                Hideous Kinky        23.0           6.2  10209   3.630958"
            ]
          },
          "metadata": {
            "tags": []
          },
          "execution_count": 510
        }
      ]
    },
    {
      "cell_type": "code",
      "metadata": {
        "id": "vLu1dnoJ8KAw",
        "colab_type": "code",
        "colab": {}
      },
      "source": [
        "df_links.to_csv('df_preprocessed_without_duplicates.csv', index=False)"
      ],
      "execution_count": 515,
      "outputs": []
    },
    {
      "cell_type": "code",
      "metadata": {
        "id": "vp-P9wXk8yE5",
        "colab_type": "code",
        "colab": {}
      },
      "source": [
        "id_map.reset_index().to_csv('id_title.csv', index=False)"
      ],
      "execution_count": 518,
      "outputs": []
    },
    {
      "cell_type": "markdown",
      "metadata": {
        "id": "_d2ruTXt48Lm",
        "colab_type": "text"
      },
      "source": [
        "So our last recommendation model is the best, we've managed duplicated titles of movies, take into consideration user's preferences. Next we'll try to make our model more independent and propose movies which user haven't rated yet and will like."
      ]
    }
  ]
}